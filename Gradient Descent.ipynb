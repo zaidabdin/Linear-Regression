{
 "cells": [
  {
   "cell_type": "code",
   "execution_count": 1,
   "metadata": {
    "ExecuteTime": {
     "end_time": "2021-12-03T03:13:52.878386Z",
     "start_time": "2021-12-03T03:13:51.982203Z"
    }
   },
   "outputs": [],
   "source": [
    "import numpy as np\n",
    "import pandas as pd\n",
    "import matplotlib.pyplot as plt"
   ]
  },
  {
   "cell_type": "code",
   "execution_count": 2,
   "metadata": {
    "ExecuteTime": {
     "end_time": "2021-12-03T03:14:57.660486Z",
     "start_time": "2021-12-03T03:14:57.613116Z"
    }
   },
   "outputs": [
    {
     "data": {
      "text/html": [
       "<div>\n",
       "<style scoped>\n",
       "    .dataframe tbody tr th:only-of-type {\n",
       "        vertical-align: middle;\n",
       "    }\n",
       "\n",
       "    .dataframe tbody tr th {\n",
       "        vertical-align: top;\n",
       "    }\n",
       "\n",
       "    .dataframe thead th {\n",
       "        text-align: right;\n",
       "    }\n",
       "</style>\n",
       "<table border=\"1\" class=\"dataframe\">\n",
       "  <thead>\n",
       "    <tr style=\"text-align: right;\">\n",
       "      <th></th>\n",
       "      <th>Unnamed: 0</th>\n",
       "      <th>TV</th>\n",
       "      <th>Radio</th>\n",
       "      <th>Newspaper</th>\n",
       "      <th>Sales</th>\n",
       "    </tr>\n",
       "  </thead>\n",
       "  <tbody>\n",
       "    <tr>\n",
       "      <th>0</th>\n",
       "      <td>1</td>\n",
       "      <td>230.1</td>\n",
       "      <td>37.8</td>\n",
       "      <td>69.2</td>\n",
       "      <td>22.1</td>\n",
       "    </tr>\n",
       "    <tr>\n",
       "      <th>1</th>\n",
       "      <td>2</td>\n",
       "      <td>44.5</td>\n",
       "      <td>39.3</td>\n",
       "      <td>45.1</td>\n",
       "      <td>10.4</td>\n",
       "    </tr>\n",
       "    <tr>\n",
       "      <th>2</th>\n",
       "      <td>3</td>\n",
       "      <td>17.2</td>\n",
       "      <td>45.9</td>\n",
       "      <td>69.3</td>\n",
       "      <td>9.3</td>\n",
       "    </tr>\n",
       "    <tr>\n",
       "      <th>3</th>\n",
       "      <td>4</td>\n",
       "      <td>151.5</td>\n",
       "      <td>41.3</td>\n",
       "      <td>58.5</td>\n",
       "      <td>18.5</td>\n",
       "    </tr>\n",
       "    <tr>\n",
       "      <th>4</th>\n",
       "      <td>5</td>\n",
       "      <td>180.8</td>\n",
       "      <td>10.8</td>\n",
       "      <td>58.4</td>\n",
       "      <td>12.9</td>\n",
       "    </tr>\n",
       "  </tbody>\n",
       "</table>\n",
       "</div>"
      ],
      "text/plain": [
       "   Unnamed: 0     TV  Radio  Newspaper  Sales\n",
       "0           1  230.1   37.8       69.2   22.1\n",
       "1           2   44.5   39.3       45.1   10.4\n",
       "2           3   17.2   45.9       69.3    9.3\n",
       "3           4  151.5   41.3       58.5   18.5\n",
       "4           5  180.8   10.8       58.4   12.9"
      ]
     },
     "execution_count": 2,
     "metadata": {},
     "output_type": "execute_result"
    }
   ],
   "source": [
    "ad_data = pd.read_csv('C:/Users/ZAID_PC/Desktop/Learnbay DSC/Machine Learning/Advertising.csv')\n",
    "ad_data.head()"
   ]
  },
  {
   "cell_type": "code",
   "execution_count": 24,
   "metadata": {
    "ExecuteTime": {
     "end_time": "2021-12-03T05:58:24.407073Z",
     "start_time": "2021-12-03T05:58:24.396141Z"
    }
   },
   "outputs": [],
   "source": [
    "n = ad_data.shape[0]"
   ]
  },
  {
   "cell_type": "code",
   "execution_count": 25,
   "metadata": {
    "ExecuteTime": {
     "end_time": "2021-12-03T05:58:27.936155Z",
     "start_time": "2021-12-03T05:58:27.928142Z"
    }
   },
   "outputs": [
    {
     "data": {
      "text/plain": [
       "200"
      ]
     },
     "execution_count": 25,
     "metadata": {},
     "output_type": "execute_result"
    }
   ],
   "source": [
    "n"
   ]
  },
  {
   "cell_type": "code",
   "execution_count": null,
   "metadata": {},
   "outputs": [],
   "source": []
  },
  {
   "cell_type": "code",
   "execution_count": 213,
   "metadata": {
    "ExecuteTime": {
     "end_time": "2021-12-04T07:42:28.417910Z",
     "start_time": "2021-12-04T07:42:28.395972Z"
    }
   },
   "outputs": [
    {
     "data": {
      "text/plain": [
       "array([0., 0.])"
      ]
     },
     "execution_count": 213,
     "metadata": {},
     "output_type": "execute_result"
    }
   ],
   "source": [
    "initial_theta = np.zeros((2))\n",
    "initial_theta"
   ]
  },
  {
   "cell_type": "code",
   "execution_count": 128,
   "metadata": {
    "ExecuteTime": {
     "end_time": "2021-12-03T06:59:14.764635Z",
     "start_time": "2021-12-03T06:59:14.758649Z"
    }
   },
   "outputs": [
    {
     "data": {
      "text/plain": [
       "(2,)"
      ]
     },
     "execution_count": 128,
     "metadata": {},
     "output_type": "execute_result"
    }
   ],
   "source": [
    "initial_theta.shape"
   ]
  },
  {
   "cell_type": "code",
   "execution_count": 23,
   "metadata": {
    "ExecuteTime": {
     "end_time": "2021-12-03T03:49:50.416302Z",
     "start_time": "2021-12-03T03:49:50.381744Z"
    }
   },
   "outputs": [
    {
     "data": {
      "text/plain": [
       "array([[230.1,  37.8],\n",
       "       [ 44.5,  39.3],\n",
       "       [ 17.2,  45.9],\n",
       "       [151.5,  41.3],\n",
       "       [180.8,  10.8],\n",
       "       [  8.7,  48.9],\n",
       "       [ 57.5,  32.8],\n",
       "       [120.2,  19.6],\n",
       "       [  8.6,   2.1],\n",
       "       [199.8,   2.6],\n",
       "       [ 66.1,   5.8],\n",
       "       [214.7,  24. ],\n",
       "       [ 23.8,  35.1],\n",
       "       [ 97.5,   7.6],\n",
       "       [204.1,  32.9],\n",
       "       [195.4,  47.7],\n",
       "       [ 67.8,  36.6],\n",
       "       [281.4,  39.6],\n",
       "       [ 69.2,  20.5],\n",
       "       [147.3,  23.9],\n",
       "       [218.4,  27.7],\n",
       "       [237.4,   5.1],\n",
       "       [ 13.2,  15.9],\n",
       "       [228.3,  16.9],\n",
       "       [ 62.3,  12.6],\n",
       "       [262.9,   3.5],\n",
       "       [142.9,  29.3],\n",
       "       [240.1,  16.7],\n",
       "       [248.8,  27.1],\n",
       "       [ 70.6,  16. ],\n",
       "       [292.9,  28.3],\n",
       "       [112.9,  17.4],\n",
       "       [ 97.2,   1.5],\n",
       "       [265.6,  20. ],\n",
       "       [ 95.7,   1.4],\n",
       "       [290.7,   4.1],\n",
       "       [266.9,  43.8],\n",
       "       [ 74.7,  49.4],\n",
       "       [ 43.1,  26.7],\n",
       "       [228. ,  37.7],\n",
       "       [202.5,  22.3],\n",
       "       [177. ,  33.4],\n",
       "       [293.6,  27.7],\n",
       "       [206.9,   8.4],\n",
       "       [ 25.1,  25.7],\n",
       "       [175.1,  22.5],\n",
       "       [ 89.7,   9.9],\n",
       "       [239.9,  41.5],\n",
       "       [227.2,  15.8],\n",
       "       [ 66.9,  11.7],\n",
       "       [199.8,   3.1],\n",
       "       [100.4,   9.6],\n",
       "       [216.4,  41.7],\n",
       "       [182.6,  46.2],\n",
       "       [262.7,  28.8],\n",
       "       [198.9,  49.4],\n",
       "       [  7.3,  28.1],\n",
       "       [136.2,  19.2],\n",
       "       [210.8,  49.6],\n",
       "       [210.7,  29.5],\n",
       "       [ 53.5,   2. ],\n",
       "       [261.3,  42.7],\n",
       "       [239.3,  15.5],\n",
       "       [102.7,  29.6],\n",
       "       [131.1,  42.8],\n",
       "       [ 69. ,   9.3],\n",
       "       [ 31.5,  24.6],\n",
       "       [139.3,  14.5],\n",
       "       [237.4,  27.5],\n",
       "       [216.8,  43.9],\n",
       "       [199.1,  30.6],\n",
       "       [109.8,  14.3],\n",
       "       [ 26.8,  33. ],\n",
       "       [129.4,   5.7],\n",
       "       [213.4,  24.6],\n",
       "       [ 16.9,  43.7],\n",
       "       [ 27.5,   1.6],\n",
       "       [120.5,  28.5],\n",
       "       [  5.4,  29.9],\n",
       "       [116. ,   7.7],\n",
       "       [ 76.4,  26.7],\n",
       "       [239.8,   4.1],\n",
       "       [ 75.3,  20.3],\n",
       "       [ 68.4,  44.5],\n",
       "       [213.5,  43. ],\n",
       "       [193.2,  18.4],\n",
       "       [ 76.3,  27.5],\n",
       "       [110.7,  40.6],\n",
       "       [ 88.3,  25.5],\n",
       "       [109.8,  47.8],\n",
       "       [134.3,   4.9],\n",
       "       [ 28.6,   1.5],\n",
       "       [217.7,  33.5],\n",
       "       [250.9,  36.5],\n",
       "       [107.4,  14. ],\n",
       "       [163.3,  31.6],\n",
       "       [197.6,   3.5],\n",
       "       [184.9,  21. ],\n",
       "       [289.7,  42.3],\n",
       "       [135.2,  41.7],\n",
       "       [222.4,   4.3],\n",
       "       [296.4,  36.3],\n",
       "       [280.2,  10.1],\n",
       "       [187.9,  17.2],\n",
       "       [238.2,  34.3],\n",
       "       [137.9,  46.4],\n",
       "       [ 25. ,  11. ],\n",
       "       [ 90.4,   0.3],\n",
       "       [ 13.1,   0.4],\n",
       "       [255.4,  26.9],\n",
       "       [225.8,   8.2],\n",
       "       [241.7,  38. ],\n",
       "       [175.7,  15.4],\n",
       "       [209.6,  20.6],\n",
       "       [ 78.2,  46.8],\n",
       "       [ 75.1,  35. ],\n",
       "       [139.2,  14.3],\n",
       "       [ 76.4,   0.8],\n",
       "       [125.7,  36.9],\n",
       "       [ 19.4,  16. ],\n",
       "       [141.3,  26.8],\n",
       "       [ 18.8,  21.7],\n",
       "       [224. ,   2.4],\n",
       "       [123.1,  34.6],\n",
       "       [229.5,  32.3],\n",
       "       [ 87.2,  11.8],\n",
       "       [  7.8,  38.9],\n",
       "       [ 80.2,   0. ],\n",
       "       [220.3,  49. ],\n",
       "       [ 59.6,  12. ],\n",
       "       [  0.7,  39.6],\n",
       "       [265.2,   2.9],\n",
       "       [  8.4,  27.2],\n",
       "       [219.8,  33.5],\n",
       "       [ 36.9,  38.6],\n",
       "       [ 48.3,  47. ],\n",
       "       [ 25.6,  39. ],\n",
       "       [273.7,  28.9],\n",
       "       [ 43. ,  25.9],\n",
       "       [184.9,  43.9],\n",
       "       [ 73.4,  17. ],\n",
       "       [193.7,  35.4],\n",
       "       [220.5,  33.2],\n",
       "       [104.6,   5.7],\n",
       "       [ 96.2,  14.8],\n",
       "       [140.3,   1.9],\n",
       "       [240.1,   7.3],\n",
       "       [243.2,  49. ],\n",
       "       [ 38. ,  40.3],\n",
       "       [ 44.7,  25.8],\n",
       "       [280.7,  13.9],\n",
       "       [121. ,   8.4],\n",
       "       [197.6,  23.3],\n",
       "       [171.3,  39.7],\n",
       "       [187.8,  21.1],\n",
       "       [  4.1,  11.6],\n",
       "       [ 93.9,  43.5],\n",
       "       [149.8,   1.3],\n",
       "       [ 11.7,  36.9],\n",
       "       [131.7,  18.4],\n",
       "       [172.5,  18.1],\n",
       "       [ 85.7,  35.8],\n",
       "       [188.4,  18.1],\n",
       "       [163.5,  36.8],\n",
       "       [117.2,  14.7],\n",
       "       [234.5,   3.4],\n",
       "       [ 17.9,  37.6],\n",
       "       [206.8,   5.2],\n",
       "       [215.4,  23.6],\n",
       "       [284.3,  10.6],\n",
       "       [ 50. ,  11.6],\n",
       "       [164.5,  20.9],\n",
       "       [ 19.6,  20.1],\n",
       "       [168.4,   7.1],\n",
       "       [222.4,   3.4],\n",
       "       [276.9,  48.9],\n",
       "       [248.4,  30.2],\n",
       "       [170.2,   7.8],\n",
       "       [276.7,   2.3],\n",
       "       [165.6,  10. ],\n",
       "       [156.6,   2.6],\n",
       "       [218.5,   5.4],\n",
       "       [ 56.2,   5.7],\n",
       "       [287.6,  43. ],\n",
       "       [253.8,  21.3],\n",
       "       [205. ,  45.1],\n",
       "       [139.5,   2.1],\n",
       "       [191.1,  28.7],\n",
       "       [286. ,  13.9],\n",
       "       [ 18.7,  12.1],\n",
       "       [ 39.5,  41.1],\n",
       "       [ 75.5,  10.8],\n",
       "       [ 17.2,   4.1],\n",
       "       [166.8,  42. ],\n",
       "       [149.7,  35.6],\n",
       "       [ 38.2,   3.7],\n",
       "       [ 94.2,   4.9],\n",
       "       [177. ,   9.3],\n",
       "       [283.6,  42. ],\n",
       "       [232.1,   8.6]])"
      ]
     },
     "execution_count": 23,
     "metadata": {},
     "output_type": "execute_result"
    }
   ],
   "source": [
    "ad_data[['TV','Radio']].values"
   ]
  },
  {
   "cell_type": "code",
   "execution_count": 129,
   "metadata": {
    "ExecuteTime": {
     "end_time": "2021-12-03T06:59:19.818595Z",
     "start_time": "2021-12-03T06:59:19.807592Z"
    }
   },
   "outputs": [
    {
     "data": {
      "text/plain": [
       "(200,)"
      ]
     },
     "execution_count": 129,
     "metadata": {},
     "output_type": "execute_result"
    }
   ],
   "source": [
    "np.dot(ad_data[['TV','Radio']],initial_theta).shape"
   ]
  },
  {
   "cell_type": "code",
   "execution_count": 35,
   "metadata": {
    "ExecuteTime": {
     "end_time": "2021-12-03T06:10:52.580924Z",
     "start_time": "2021-12-03T06:10:52.567962Z"
    }
   },
   "outputs": [],
   "source": [
    "#standardised data\n",
    "def get_standard_data(data):\n",
    "    import numpy as np\n",
    "    m = np.mean(data)\n",
    "    s = np.std(data)\n",
    "    return (data-m)/s"
   ]
  },
  {
   "cell_type": "code",
   "execution_count": 159,
   "metadata": {
    "ExecuteTime": {
     "end_time": "2021-12-03T07:19:53.890009Z",
     "start_time": "2021-12-03T07:19:53.863081Z"
    }
   },
   "outputs": [
    {
     "data": {
      "text/html": [
       "<div>\n",
       "<style scoped>\n",
       "    .dataframe tbody tr th:only-of-type {\n",
       "        vertical-align: middle;\n",
       "    }\n",
       "\n",
       "    .dataframe tbody tr th {\n",
       "        vertical-align: top;\n",
       "    }\n",
       "\n",
       "    .dataframe thead th {\n",
       "        text-align: right;\n",
       "    }\n",
       "</style>\n",
       "<table border=\"1\" class=\"dataframe\">\n",
       "  <thead>\n",
       "    <tr style=\"text-align: right;\">\n",
       "      <th></th>\n",
       "      <th>constant</th>\n",
       "      <th>TV</th>\n",
       "    </tr>\n",
       "  </thead>\n",
       "  <tbody>\n",
       "    <tr>\n",
       "      <th>0</th>\n",
       "      <td>1.0</td>\n",
       "      <td>230.1</td>\n",
       "    </tr>\n",
       "    <tr>\n",
       "      <th>1</th>\n",
       "      <td>1.0</td>\n",
       "      <td>44.5</td>\n",
       "    </tr>\n",
       "    <tr>\n",
       "      <th>2</th>\n",
       "      <td>1.0</td>\n",
       "      <td>17.2</td>\n",
       "    </tr>\n",
       "    <tr>\n",
       "      <th>3</th>\n",
       "      <td>1.0</td>\n",
       "      <td>151.5</td>\n",
       "    </tr>\n",
       "    <tr>\n",
       "      <th>4</th>\n",
       "      <td>1.0</td>\n",
       "      <td>180.8</td>\n",
       "    </tr>\n",
       "    <tr>\n",
       "      <th>...</th>\n",
       "      <td>...</td>\n",
       "      <td>...</td>\n",
       "    </tr>\n",
       "    <tr>\n",
       "      <th>195</th>\n",
       "      <td>1.0</td>\n",
       "      <td>38.2</td>\n",
       "    </tr>\n",
       "    <tr>\n",
       "      <th>196</th>\n",
       "      <td>1.0</td>\n",
       "      <td>94.2</td>\n",
       "    </tr>\n",
       "    <tr>\n",
       "      <th>197</th>\n",
       "      <td>1.0</td>\n",
       "      <td>177.0</td>\n",
       "    </tr>\n",
       "    <tr>\n",
       "      <th>198</th>\n",
       "      <td>1.0</td>\n",
       "      <td>283.6</td>\n",
       "    </tr>\n",
       "    <tr>\n",
       "      <th>199</th>\n",
       "      <td>1.0</td>\n",
       "      <td>232.1</td>\n",
       "    </tr>\n",
       "  </tbody>\n",
       "</table>\n",
       "<p>200 rows × 2 columns</p>\n",
       "</div>"
      ],
      "text/plain": [
       "     constant     TV\n",
       "0         1.0  230.1\n",
       "1         1.0   44.5\n",
       "2         1.0   17.2\n",
       "3         1.0  151.5\n",
       "4         1.0  180.8\n",
       "..        ...    ...\n",
       "195       1.0   38.2\n",
       "196       1.0   94.2\n",
       "197       1.0  177.0\n",
       "198       1.0  283.6\n",
       "199       1.0  232.1\n",
       "\n",
       "[200 rows x 2 columns]"
      ]
     },
     "execution_count": 159,
     "metadata": {},
     "output_type": "execute_result"
    }
   ],
   "source": [
    "x = ad_data[['TV']]\n",
    "y = ad_data['Sales']\n",
    "n = x.shape[0]\n",
    "m = x.shape[1]\n",
    "x.insert(0,'constant',np.ones((n,1)))\n",
    "x"
   ]
  },
  {
   "cell_type": "code",
   "execution_count": 158,
   "metadata": {
    "ExecuteTime": {
     "end_time": "2021-12-03T07:19:45.891072Z",
     "start_time": "2021-12-03T07:19:45.870102Z"
    }
   },
   "outputs": [
    {
     "data": {
      "text/html": [
       "<div>\n",
       "<style scoped>\n",
       "    .dataframe tbody tr th:only-of-type {\n",
       "        vertical-align: middle;\n",
       "    }\n",
       "\n",
       "    .dataframe tbody tr th {\n",
       "        vertical-align: top;\n",
       "    }\n",
       "\n",
       "    .dataframe thead th {\n",
       "        text-align: right;\n",
       "    }\n",
       "</style>\n",
       "<table border=\"1\" class=\"dataframe\">\n",
       "  <thead>\n",
       "    <tr style=\"text-align: right;\">\n",
       "      <th></th>\n",
       "      <th>constant</th>\n",
       "      <th>TV</th>\n",
       "    </tr>\n",
       "  </thead>\n",
       "  <tbody>\n",
       "    <tr>\n",
       "      <th>0</th>\n",
       "      <td>1.0</td>\n",
       "      <td>230.1</td>\n",
       "    </tr>\n",
       "    <tr>\n",
       "      <th>1</th>\n",
       "      <td>1.0</td>\n",
       "      <td>44.5</td>\n",
       "    </tr>\n",
       "    <tr>\n",
       "      <th>2</th>\n",
       "      <td>1.0</td>\n",
       "      <td>17.2</td>\n",
       "    </tr>\n",
       "    <tr>\n",
       "      <th>3</th>\n",
       "      <td>1.0</td>\n",
       "      <td>151.5</td>\n",
       "    </tr>\n",
       "    <tr>\n",
       "      <th>4</th>\n",
       "      <td>1.0</td>\n",
       "      <td>180.8</td>\n",
       "    </tr>\n",
       "    <tr>\n",
       "      <th>...</th>\n",
       "      <td>...</td>\n",
       "      <td>...</td>\n",
       "    </tr>\n",
       "    <tr>\n",
       "      <th>195</th>\n",
       "      <td>1.0</td>\n",
       "      <td>38.2</td>\n",
       "    </tr>\n",
       "    <tr>\n",
       "      <th>196</th>\n",
       "      <td>1.0</td>\n",
       "      <td>94.2</td>\n",
       "    </tr>\n",
       "    <tr>\n",
       "      <th>197</th>\n",
       "      <td>1.0</td>\n",
       "      <td>177.0</td>\n",
       "    </tr>\n",
       "    <tr>\n",
       "      <th>198</th>\n",
       "      <td>1.0</td>\n",
       "      <td>283.6</td>\n",
       "    </tr>\n",
       "    <tr>\n",
       "      <th>199</th>\n",
       "      <td>1.0</td>\n",
       "      <td>232.1</td>\n",
       "    </tr>\n",
       "  </tbody>\n",
       "</table>\n",
       "<p>200 rows × 2 columns</p>\n",
       "</div>"
      ],
      "text/plain": [
       "     constant     TV\n",
       "0         1.0  230.1\n",
       "1         1.0   44.5\n",
       "2         1.0   17.2\n",
       "3         1.0  151.5\n",
       "4         1.0  180.8\n",
       "..        ...    ...\n",
       "195       1.0   38.2\n",
       "196       1.0   94.2\n",
       "197       1.0  177.0\n",
       "198       1.0  283.6\n",
       "199       1.0  232.1\n",
       "\n",
       "[200 rows x 2 columns]"
      ]
     },
     "execution_count": 158,
     "metadata": {},
     "output_type": "execute_result"
    }
   ],
   "source": [
    "x"
   ]
  },
  {
   "cell_type": "code",
   "execution_count": 155,
   "metadata": {
    "ExecuteTime": {
     "end_time": "2021-12-03T07:17:15.737591Z",
     "start_time": "2021-12-03T07:17:15.726624Z"
    }
   },
   "outputs": [
    {
     "name": "stdout",
     "output_type": "stream",
     "text": [
      "         TV  constant\n",
      "0  0.969852       1.0\n",
      "1 -1.197376       1.0\n",
      "2 -1.516155       1.0\n",
      "3  0.052050       1.0\n",
      "4  0.394182       1.0\n"
     ]
    }
   ],
   "source": [
    "print(x.head())"
   ]
  },
  {
   "cell_type": "code",
   "execution_count": null,
   "metadata": {},
   "outputs": [],
   "source": [
    "ad_data.insert()"
   ]
  },
  {
   "cell_type": "markdown",
   "metadata": {},
   "source": [
    "## Linear Regression (using loop)"
   ]
  },
  {
   "cell_type": "code",
   "execution_count": 163,
   "metadata": {
    "ExecuteTime": {
     "end_time": "2021-12-04T06:41:19.881164Z",
     "start_time": "2021-12-04T06:41:19.860236Z"
    }
   },
   "outputs": [],
   "source": [
    "import pandas as pd\n",
    "import numpy as np\n",
    "import matplotlib.pyplot as plt"
   ]
  },
  {
   "cell_type": "code",
   "execution_count": 162,
   "metadata": {
    "ExecuteTime": {
     "end_time": "2021-12-04T06:37:37.896692Z",
     "start_time": "2021-12-04T06:37:37.837912Z"
    },
    "scrolled": true
   },
   "outputs": [
    {
     "data": {
      "text/html": [
       "<div>\n",
       "<style scoped>\n",
       "    .dataframe tbody tr th:only-of-type {\n",
       "        vertical-align: middle;\n",
       "    }\n",
       "\n",
       "    .dataframe tbody tr th {\n",
       "        vertical-align: top;\n",
       "    }\n",
       "\n",
       "    .dataframe thead th {\n",
       "        text-align: right;\n",
       "    }\n",
       "</style>\n",
       "<table border=\"1\" class=\"dataframe\">\n",
       "  <thead>\n",
       "    <tr style=\"text-align: right;\">\n",
       "      <th></th>\n",
       "      <th>Unnamed: 0</th>\n",
       "      <th>TV</th>\n",
       "      <th>Radio</th>\n",
       "      <th>Newspaper</th>\n",
       "      <th>Sales</th>\n",
       "    </tr>\n",
       "  </thead>\n",
       "  <tbody>\n",
       "    <tr>\n",
       "      <th>0</th>\n",
       "      <td>1</td>\n",
       "      <td>230.1</td>\n",
       "      <td>37.8</td>\n",
       "      <td>69.2</td>\n",
       "      <td>22.1</td>\n",
       "    </tr>\n",
       "    <tr>\n",
       "      <th>1</th>\n",
       "      <td>2</td>\n",
       "      <td>44.5</td>\n",
       "      <td>39.3</td>\n",
       "      <td>45.1</td>\n",
       "      <td>10.4</td>\n",
       "    </tr>\n",
       "    <tr>\n",
       "      <th>2</th>\n",
       "      <td>3</td>\n",
       "      <td>17.2</td>\n",
       "      <td>45.9</td>\n",
       "      <td>69.3</td>\n",
       "      <td>9.3</td>\n",
       "    </tr>\n",
       "    <tr>\n",
       "      <th>3</th>\n",
       "      <td>4</td>\n",
       "      <td>151.5</td>\n",
       "      <td>41.3</td>\n",
       "      <td>58.5</td>\n",
       "      <td>18.5</td>\n",
       "    </tr>\n",
       "    <tr>\n",
       "      <th>4</th>\n",
       "      <td>5</td>\n",
       "      <td>180.8</td>\n",
       "      <td>10.8</td>\n",
       "      <td>58.4</td>\n",
       "      <td>12.9</td>\n",
       "    </tr>\n",
       "  </tbody>\n",
       "</table>\n",
       "</div>"
      ],
      "text/plain": [
       "   Unnamed: 0     TV  Radio  Newspaper  Sales\n",
       "0           1  230.1   37.8       69.2   22.1\n",
       "1           2   44.5   39.3       45.1   10.4\n",
       "2           3   17.2   45.9       69.3    9.3\n",
       "3           4  151.5   41.3       58.5   18.5\n",
       "4           5  180.8   10.8       58.4   12.9"
      ]
     },
     "execution_count": 162,
     "metadata": {},
     "output_type": "execute_result"
    }
   ],
   "source": [
    "#using loop\n",
    "ad_data.head()"
   ]
  },
  {
   "cell_type": "code",
   "execution_count": 165,
   "metadata": {
    "ExecuteTime": {
     "end_time": "2021-12-04T06:47:03.251264Z",
     "start_time": "2021-12-04T06:47:03.222342Z"
    }
   },
   "outputs": [
    {
     "data": {
      "text/plain": [
       "array([0, 0])"
      ]
     },
     "execution_count": 165,
     "metadata": {},
     "output_type": "execute_result"
    }
   ],
   "source": [
    "np.zeros(2,dtype=int)"
   ]
  },
  {
   "cell_type": "code",
   "execution_count": 198,
   "metadata": {
    "ExecuteTime": {
     "end_time": "2021-12-04T07:33:58.553521Z",
     "start_time": "2021-12-04T07:33:58.528570Z"
    }
   },
   "outputs": [
    {
     "data": {
      "text/html": [
       "<div>\n",
       "<style scoped>\n",
       "    .dataframe tbody tr th:only-of-type {\n",
       "        vertical-align: middle;\n",
       "    }\n",
       "\n",
       "    .dataframe tbody tr th {\n",
       "        vertical-align: top;\n",
       "    }\n",
       "\n",
       "    .dataframe thead th {\n",
       "        text-align: right;\n",
       "    }\n",
       "</style>\n",
       "<table border=\"1\" class=\"dataframe\">\n",
       "  <thead>\n",
       "    <tr style=\"text-align: right;\">\n",
       "      <th></th>\n",
       "      <th>TV</th>\n",
       "    </tr>\n",
       "  </thead>\n",
       "  <tbody>\n",
       "    <tr>\n",
       "      <th>0</th>\n",
       "      <td>0.969852</td>\n",
       "    </tr>\n",
       "    <tr>\n",
       "      <th>1</th>\n",
       "      <td>-1.197376</td>\n",
       "    </tr>\n",
       "    <tr>\n",
       "      <th>2</th>\n",
       "      <td>-1.516155</td>\n",
       "    </tr>\n",
       "    <tr>\n",
       "      <th>3</th>\n",
       "      <td>0.052050</td>\n",
       "    </tr>\n",
       "    <tr>\n",
       "      <th>4</th>\n",
       "      <td>0.394182</td>\n",
       "    </tr>\n",
       "    <tr>\n",
       "      <th>...</th>\n",
       "      <td>...</td>\n",
       "    </tr>\n",
       "    <tr>\n",
       "      <th>195</th>\n",
       "      <td>-1.270941</td>\n",
       "    </tr>\n",
       "    <tr>\n",
       "      <th>196</th>\n",
       "      <td>-0.617035</td>\n",
       "    </tr>\n",
       "    <tr>\n",
       "      <th>197</th>\n",
       "      <td>0.349810</td>\n",
       "    </tr>\n",
       "    <tr>\n",
       "      <th>198</th>\n",
       "      <td>1.594565</td>\n",
       "    </tr>\n",
       "    <tr>\n",
       "      <th>199</th>\n",
       "      <td>0.993206</td>\n",
       "    </tr>\n",
       "  </tbody>\n",
       "</table>\n",
       "<p>200 rows × 1 columns</p>\n",
       "</div>"
      ],
      "text/plain": [
       "           TV\n",
       "0    0.969852\n",
       "1   -1.197376\n",
       "2   -1.516155\n",
       "3    0.052050\n",
       "4    0.394182\n",
       "..        ...\n",
       "195 -1.270941\n",
       "196 -0.617035\n",
       "197  0.349810\n",
       "198  1.594565\n",
       "199  0.993206\n",
       "\n",
       "[200 rows x 1 columns]"
      ]
     },
     "execution_count": 198,
     "metadata": {},
     "output_type": "execute_result"
    }
   ],
   "source": [
    "x = ad_data[['TV']]\n",
    "x = get_standard_data(x)\n",
    "y = ad_data['Sales']\n",
    "m = x.shape[0]\n",
    "x"
   ]
  },
  {
   "cell_type": "code",
   "execution_count": 199,
   "metadata": {
    "ExecuteTime": {
     "end_time": "2021-12-04T07:34:02.150186Z",
     "start_time": "2021-12-04T07:34:02.110292Z"
    }
   },
   "outputs": [
    {
     "data": {
      "text/html": [
       "<div>\n",
       "<style scoped>\n",
       "    .dataframe tbody tr th:only-of-type {\n",
       "        vertical-align: middle;\n",
       "    }\n",
       "\n",
       "    .dataframe tbody tr th {\n",
       "        vertical-align: top;\n",
       "    }\n",
       "\n",
       "    .dataframe thead th {\n",
       "        text-align: right;\n",
       "    }\n",
       "</style>\n",
       "<table border=\"1\" class=\"dataframe\">\n",
       "  <thead>\n",
       "    <tr style=\"text-align: right;\">\n",
       "      <th></th>\n",
       "      <th>constant</th>\n",
       "      <th>TV</th>\n",
       "    </tr>\n",
       "  </thead>\n",
       "  <tbody>\n",
       "    <tr>\n",
       "      <th>0</th>\n",
       "      <td>1.0</td>\n",
       "      <td>0.969852</td>\n",
       "    </tr>\n",
       "    <tr>\n",
       "      <th>1</th>\n",
       "      <td>1.0</td>\n",
       "      <td>-1.197376</td>\n",
       "    </tr>\n",
       "    <tr>\n",
       "      <th>2</th>\n",
       "      <td>1.0</td>\n",
       "      <td>-1.516155</td>\n",
       "    </tr>\n",
       "    <tr>\n",
       "      <th>3</th>\n",
       "      <td>1.0</td>\n",
       "      <td>0.052050</td>\n",
       "    </tr>\n",
       "    <tr>\n",
       "      <th>4</th>\n",
       "      <td>1.0</td>\n",
       "      <td>0.394182</td>\n",
       "    </tr>\n",
       "    <tr>\n",
       "      <th>...</th>\n",
       "      <td>...</td>\n",
       "      <td>...</td>\n",
       "    </tr>\n",
       "    <tr>\n",
       "      <th>195</th>\n",
       "      <td>1.0</td>\n",
       "      <td>-1.270941</td>\n",
       "    </tr>\n",
       "    <tr>\n",
       "      <th>196</th>\n",
       "      <td>1.0</td>\n",
       "      <td>-0.617035</td>\n",
       "    </tr>\n",
       "    <tr>\n",
       "      <th>197</th>\n",
       "      <td>1.0</td>\n",
       "      <td>0.349810</td>\n",
       "    </tr>\n",
       "    <tr>\n",
       "      <th>198</th>\n",
       "      <td>1.0</td>\n",
       "      <td>1.594565</td>\n",
       "    </tr>\n",
       "    <tr>\n",
       "      <th>199</th>\n",
       "      <td>1.0</td>\n",
       "      <td>0.993206</td>\n",
       "    </tr>\n",
       "  </tbody>\n",
       "</table>\n",
       "<p>200 rows × 2 columns</p>\n",
       "</div>"
      ],
      "text/plain": [
       "     constant        TV\n",
       "0         1.0  0.969852\n",
       "1         1.0 -1.197376\n",
       "2         1.0 -1.516155\n",
       "3         1.0  0.052050\n",
       "4         1.0  0.394182\n",
       "..        ...       ...\n",
       "195       1.0 -1.270941\n",
       "196       1.0 -0.617035\n",
       "197       1.0  0.349810\n",
       "198       1.0  1.594565\n",
       "199       1.0  0.993206\n",
       "\n",
       "[200 rows x 2 columns]"
      ]
     },
     "execution_count": 199,
     "metadata": {},
     "output_type": "execute_result"
    }
   ],
   "source": [
    "x.insert(0,'constant',np.ones((m,1)))\n",
    "x"
   ]
  },
  {
   "cell_type": "code",
   "execution_count": 194,
   "metadata": {
    "ExecuteTime": {
     "end_time": "2021-12-04T07:30:28.965852Z",
     "start_time": "2021-12-04T07:30:28.947863Z"
    }
   },
   "outputs": [
    {
     "data": {
      "text/plain": [
       "array([-22.1, -10.4,  -9.3, -18.5, -12.9,  -7.2, -11.8, -13.2,  -4.8,\n",
       "       -10.6,  -8.6, -17.4,  -9.2,  -9.7, -19. , -22.4, -12.5, -24.4,\n",
       "       -11.3, -14.6, -18. , -12.5,  -5.6, -15.5,  -9.7, -12. , -15. ,\n",
       "       -15.9, -18.9, -10.5, -21.4, -11.9,  -9.6, -17.4,  -9.5, -12.8,\n",
       "       -25.4, -14.7, -10.1, -21.5, -16.6, -17.1, -20.7, -12.9,  -8.5,\n",
       "       -14.9, -10.6, -23.2, -14.8,  -9.7, -11.4, -10.7, -22.6, -21.2,\n",
       "       -20.2, -23.7,  -5.5, -13.2, -23.8, -18.4,  -8.1, -24.2, -15.7,\n",
       "       -14. , -18. ,  -9.3,  -9.5, -13.4, -18.9, -22.3, -18.3, -12.4,\n",
       "        -8.8, -11. , -17. ,  -8.7,  -6.9, -14.2,  -5.3, -11. , -11.8,\n",
       "       -12.3, -11.3, -13.6, -21.7, -15.2, -12. , -16. , -12.9, -16.7,\n",
       "       -11.2,  -7.3, -19.4, -22.2, -11.5, -16.9, -11.7, -15.5, -25.4,\n",
       "       -17.2, -11.7, -23.8, -14.8, -14.7, -20.7, -19.2,  -7.2,  -8.7,\n",
       "        -5.3, -19.8, -13.4, -21.8, -14.1, -15.9, -14.6, -12.6, -12.2,\n",
       "        -9.4, -15.9,  -6.6, -15.5,  -7. , -11.6, -15.2, -19.7, -10.6,\n",
       "        -6.6,  -8.8, -24.7,  -9.7,  -1.6, -12.7,  -5.7, -19.6, -10.8,\n",
       "       -11.6,  -9.5, -20.8,  -9.6, -20.7, -10.9, -19.2, -20.1, -10.4,\n",
       "       -11.4, -10.3, -13.2, -25.4, -10.9, -10.1, -16.1, -11.6, -16.6,\n",
       "       -19. , -15.6,  -3.2, -15.3, -10.1,  -7.3, -12.9, -14.4, -13.3,\n",
       "       -14.9, -18. , -11.9, -11.9,  -8. , -12.2, -17.1, -15. ,  -8.4,\n",
       "       -14.5,  -7.6, -11.7, -11.5, -27. , -20.2, -11.7, -11.8, -12.6,\n",
       "       -10.5, -12.2,  -8.7, -26.2, -17.6, -22.6, -10.3, -17.3, -15.9,\n",
       "        -6.7, -10.8,  -9.9,  -5.9, -19.6, -17.3,  -7.6,  -9.7, -12.8,\n",
       "       -25.5, -13.4])"
      ]
     },
     "execution_count": 194,
     "metadata": {},
     "output_type": "execute_result"
    }
   ],
   "source": [
    "theta = np.zeros(2,dtype=int)\n",
    "y_pred = theta[0] * x.iloc[:,0] + theta[1] * x.iloc[:,1]\n",
    "error = y_pred - y\n",
    "cost = 1/(2*m) * sum(error**2)\n",
    "(error * x.iloc[:,0]).values\n",
    "error.values"
   ]
  },
  {
   "cell_type": "code",
   "execution_count": 354,
   "metadata": {
    "ExecuteTime": {
     "end_time": "2021-12-04T11:13:00.234908Z",
     "start_time": "2021-12-04T11:13:00.229912Z"
    }
   },
   "outputs": [
    {
     "data": {
      "text/plain": [
       "array([126.2025    ,  36.63905509])"
      ]
     },
     "execution_count": 354,
     "metadata": {},
     "output_type": "execute_result"
    }
   ],
   "source": [
    "theta"
   ]
  },
  {
   "cell_type": "code",
   "execution_count": 357,
   "metadata": {
    "ExecuteTime": {
     "end_time": "2021-12-04T11:13:27.014881Z",
     "start_time": "2021-12-04T11:13:27.004913Z"
    }
   },
   "outputs": [
    {
     "data": {
      "text/plain": [
       "constant    1.000000\n",
       "TV          0.969852\n",
       "Name: 0, dtype: float64"
      ]
     },
     "execution_count": 357,
     "metadata": {},
     "output_type": "execute_result"
    }
   ],
   "source": [
    "x.iloc[0]"
   ]
  },
  {
   "cell_type": "code",
   "execution_count": 358,
   "metadata": {
    "ExecuteTime": {
     "end_time": "2021-12-04T11:14:17.390665Z",
     "start_time": "2021-12-04T11:14:17.380692Z"
    }
   },
   "outputs": [
    {
     "data": {
      "text/plain": [
       "161.7369608571467"
      ]
     },
     "execution_count": 358,
     "metadata": {},
     "output_type": "execute_result"
    }
   ],
   "source": [
    "126.2025 * 1 + 36.63905509 * 0.969852"
   ]
  },
  {
   "cell_type": "code",
   "execution_count": 360,
   "metadata": {
    "ExecuteTime": {
     "end_time": "2021-12-04T11:15:50.301424Z",
     "start_time": "2021-12-04T11:15:50.286467Z"
    },
    "scrolled": false
   },
   "outputs": [
    {
     "data": {
      "text/plain": [
       "array([161.73697061,  82.33176644,  70.65201388, 128.10955117,\n",
       "       140.64496325,  67.01546089,  87.89355337, 114.71847956,\n",
       "        66.97267791, 148.77372877,  91.57288934, 155.14839225,\n",
       "        73.47569032, 105.00674392, 150.61339675, 146.89127781,\n",
       "        92.30019993, 183.6846375 ,  92.8991616 , 126.31266616,\n",
       "       156.73136238, 164.86012789,  68.94069483, 160.96687704,\n",
       "        89.94713623, 175.76978687, 124.4302152 , 166.01526825,\n",
       "       169.7373872 ,  93.49812327, 188.60467979, 111.59532229,\n",
       "       104.87839499, 176.92492723, 104.23665035, 187.66345431,\n",
       "       177.48110593,  95.25222531,  81.73280477, 160.83852811,\n",
       "       149.92886913, 139.01921015, 188.90416062, 151.81132009,\n",
       "        74.03186902, 138.2063336 , 101.66967176, 165.9297023 ,\n",
       "       160.4962643 ,  91.91515315, 148.77372877, 106.24745024,\n",
       "       155.87570285, 141.41505683, 175.68422092, 148.38868198,\n",
       "        66.41649922, 121.56375578, 153.47985617, 153.4370732 ,\n",
       "        86.18223431, 175.08525925, 165.67300444, 107.23145869,\n",
       "       119.38182399,  92.81359565,  76.7699795 , 122.89002805,\n",
       "       164.86012789, 156.04683476, 148.47424793, 110.26905002,\n",
       "        74.75917961, 118.65451339, 154.59221356,  70.52366495,\n",
       "        75.05866045, 114.84682849,  65.60362267, 112.92159455,\n",
       "        95.9795359 , 165.88691932,  95.50892316,  92.55689779,\n",
       "       154.63499653, 145.95005233,  95.93675293, 110.65409681,\n",
       "       101.07071009, 110.26905002, 120.75087923,  75.52927319,\n",
       "       156.43188154, 170.6358297 , 109.24225858, 133.15794239,\n",
       "       147.83250329, 142.39906529, 187.23562454, 121.13592602,\n",
       "       158.44268143, 190.10208396, 183.17124179, 143.68255458,\n",
       "       165.2023917 , 122.29106638,  73.98908604, 101.9691526 ,\n",
       "        68.89791185, 172.56106364, 159.89730263, 166.69979588,\n",
       "       138.46303146, 152.96646045,  96.74962948,  95.42335721,\n",
       "       122.84724508,  95.9795359 , 117.07154326,  71.59323936,\n",
       "       123.74568758,  71.3365415 , 159.12720906, 115.95918588,\n",
       "       161.48027276, 100.60009735,  66.6304141 ,  97.60528901,\n",
       "       157.54423893,  88.79199587,  63.59282278, 176.75379533,\n",
       "        66.88711196, 157.33032405,  79.08026023,  83.95751954,\n",
       "        74.2457839 , 180.39034832,  81.69002179, 142.39906529,\n",
       "        94.69604661, 146.16396721, 157.62980488, 108.04433525,\n",
       "       104.45056523, 123.31785782, 166.01526825, 167.34154052,\n",
       "        79.55087297,  82.41733239, 183.38515667, 115.06074337,\n",
       "       147.83250329, 136.5805805 , 143.6397716 ,  65.04744397,\n",
       "       103.46655677, 127.38224057,  68.29895018, 119.63852185,\n",
       "       137.09397621,  99.95835271, 143.89646946, 133.24350834,\n",
       "       113.43499027, 163.61942158,  70.95149472, 151.76853712,\n",
       "       155.44787309, 184.92534382,  84.68483014, 133.6713381 ,\n",
       "        71.67880531, 135.33987418, 158.44268143, 181.75940357,\n",
       "       169.56625529, 136.10996776, 181.67383761, 134.14195084,\n",
       "       130.29148297, 156.77414535,  87.33737467, 186.33718204,\n",
       "       171.87653602, 150.99844354, 122.97559401, 145.05160982,\n",
       "       185.65265442,  71.29375853,  80.19261762,  95.59448912,\n",
       "        70.65201388, 134.65534656, 127.3394576 ,  79.63643892,\n",
       "       103.5949057 , 139.01921015, 184.62586298, 162.59263014])"
      ]
     },
     "execution_count": 360,
     "metadata": {},
     "output_type": "execute_result"
    }
   ],
   "source": [
    "np.dot(x,theta)"
   ]
  },
  {
   "cell_type": "code",
   "execution_count": 237,
   "metadata": {
    "ExecuteTime": {
     "end_time": "2021-12-04T08:06:05.629564Z",
     "start_time": "2021-12-04T08:06:05.242483Z"
    }
   },
   "outputs": [
    {
     "data": {
      "image/png": "[encoded data removed]",
      "text/plain": [
       "<Figure size 432x288 with 1 Axes>"
      ]
     },
     "metadata": {
      "needs_background": "light"
     },
     "output_type": "display_data"
    }
   ],
   "source": [
    "theta = np.zeros(2)\n",
    "alpha = 0.05\n",
    "cost_list = []\n",
    "for i in range(50):\n",
    "    y_pred = theta[0] * x.iloc[:,0] + theta[1] * x.iloc[:,1]\n",
    "    error = y_pred - y\n",
    "    cost = 1/(2*m) * sum(error**2)\n",
    "    cost_list.append(cost)\n",
    "    theta[0] = theta[0] - alpha * 1/m * sum(error * x.iloc[:,0])\n",
    "    theta[1] = theta[1] - alpha * 1/m * sum(error * x.iloc[:,1])\n",
    "    print(theta)\n",
    "#     print(f'iteration: {i+1}, cost:{cost}')\n",
    "# plt.plot(range(len(cost_list)),cost_list)\n",
    "# plt.text(38,105,f'alpha:{alpha}',fontsize=13)\n",
    "# plt.xlabel('iteration')\n",
    "# plt.ylabel('Cost')\n",
    "# plt.show()"
   ]
  },
  {
   "cell_type": "code",
   "execution_count": 252,
   "metadata": {
    "ExecuteTime": {
     "end_time": "2021-12-04T08:14:26.006850Z",
     "start_time": "2021-12-04T08:14:25.986890Z"
    }
   },
   "outputs": [],
   "source": [
    "def grad_descent_loop(data,feature,target,theta,learning_rate,iteration):\n",
    "    x = data[feature]\n",
    "    m = x.shape[0]\n",
    "    x = get_standard_data(x)\n",
    "    x.insert(0,'constant',np.ones((m,1)))\n",
    "    y = data[target]\n",
    "    cost_list = []\n",
    "    for i in range(iteration):\n",
    "        y_pred = theta[0] * x.iloc[:,0] + theta[1] * x.iloc[:,1]\n",
    "        error = y_pred - y\n",
    "        cost = 1/(2*m) * sum(error**2)\n",
    "        cost_list.append(cost)\n",
    "        theta[0] = theta[0] - alpha * 1/m * sum(error * x.iloc[:,0])\n",
    "        theta[1] = theta[1] - alpha * 1/m * sum(error * x.iloc[:,1])\n",
    "#         print(cost)\n",
    "    return cost_list,theta"
   ]
  },
  {
   "cell_type": "code",
   "execution_count": 254,
   "metadata": {
    "ExecuteTime": {
     "end_time": "2021-12-04T08:15:28.658031Z",
     "start_time": "2021-12-04T08:15:28.475476Z"
    }
   },
   "outputs": [],
   "source": [
    "cost_list, theta = grad_descent_loop(ad_data,['TV'],'Sales',np.zeros(2),0.05,50)"
   ]
  },
  {
   "cell_type": "code",
   "execution_count": 264,
   "metadata": {
    "ExecuteTime": {
     "end_time": "2021-12-04T08:22:22.537757Z",
     "start_time": "2021-12-04T08:22:22.531772Z"
    }
   },
   "outputs": [],
   "source": [
    "def plot_cost(cost_list,learning_rate):\n",
    "    plt.plot(range(len(cost_list)),cost_list,label=f'alpha:{learning_rate}')\n",
    "    plt.legend()\n",
    "    plt.xlabel('iteration')\n",
    "    plt.ylabel('Cost')"
   ]
  },
  {
   "cell_type": "code",
   "execution_count": 265,
   "metadata": {
    "ExecuteTime": {
     "end_time": "2021-12-04T08:22:24.156341Z",
     "start_time": "2021-12-04T08:22:23.821113Z"
    }
   },
   "outputs": [
    {
     "data": {
      "image/png": "[encoded data removed]",
      "text/plain": [
       "<Figure size 432x288 with 1 Axes>"
      ]
     },
     "metadata": {
      "needs_background": "light"
     },
     "output_type": "display_data"
    }
   ],
   "source": [
    "plot_cost(cost_list,0.05)"
   ]
  },
  {
   "cell_type": "code",
   "execution_count": 366,
   "metadata": {
    "ExecuteTime": {
     "end_time": "2021-12-04T11:17:54.868908Z",
     "start_time": "2021-12-04T11:17:54.190894Z"
    }
   },
   "outputs": [
    {
     "data": {
      "image/png": "[encoded data removed]",
      "text/plain": [
       "<Figure size 432x288 with 1 Axes>"
      ]
     },
     "metadata": {
      "needs_background": "light"
     },
     "output_type": "display_data"
    }
   ],
   "source": [
    "for alpha in [0.01,0.03,0.05,0.08,0.1]:\n",
    "    cost, theta = grad_descent_loop(ad_data,['TV'],'Sales',np.zeros(2),alpha,50)\n",
    "    plot_cost(cost,alpha)"
   ]
  },
  {
   "cell_type": "code",
   "execution_count": 340,
   "metadata": {
    "ExecuteTime": {
     "end_time": "2021-12-04T10:50:54.448394Z",
     "start_time": "2021-12-04T10:50:53.457634Z"
    }
   },
   "outputs": [
    {
     "data": {
      "image/png": "[encoded data removed]",
      "text/plain": [
       "<Figure size 432x288 with 1 Axes>"
      ]
     },
     "metadata": {
      "needs_background": "light"
     },
     "output_type": "display_data"
    }
   ],
   "source": [
    "for alpha in [0.01,0.03,0.05,0.08,0.1,3]:\n",
    "    cost, theta = grad_descent_loop(ad_data,['TV'],'Sales',np.zeros(2),alpha,3)\n",
    "    plot_cost(cost,alpha)"
   ]
  },
  {
   "cell_type": "code",
   "execution_count": 324,
   "metadata": {
    "ExecuteTime": {
     "end_time": "2021-12-04T09:24:01.624431Z",
     "start_time": "2021-12-04T09:24:01.361269Z"
    },
    "scrolled": true
   },
   "outputs": [
    {
     "name": "stdout",
     "output_type": "stream",
     "text": [
      "[111.85812500000002, 431.66352062651475, 1710.8851031325726, 6827.771433156814, 27295.31675325381]\n"
     ]
    },
    {
     "data": {
      "image/png": "[encoded data removed]",
      "text/plain": [
       "<Figure size 432x288 with 1 Axes>"
      ]
     },
     "metadata": {
      "needs_background": "light"
     },
     "output_type": "display_data"
    }
   ],
   "source": [
    "cost, theta = grad_descent_loop(ad_data,['TV'],'Sales',np.zeros(2),3,5)\n",
    "print(cost)\n",
    "plot_cost(cost,3)"
   ]
  },
  {
   "cell_type": "markdown",
   "metadata": {},
   "source": [
    "## Predicting the output"
   ]
  },
  {
   "cell_type": "code",
   "execution_count": 385,
   "metadata": {
    "ExecuteTime": {
     "end_time": "2021-12-04T11:29:55.848689Z",
     "start_time": "2021-12-04T11:29:55.838684Z"
    }
   },
   "outputs": [],
   "source": [
    "def predict_output(x,theta):\n",
    "    import numpy as np\n",
    "    y_pred = np.dot(x,theta)\n",
    "    return y_pred"
   ]
  },
  {
   "cell_type": "markdown",
   "metadata": {},
   "source": [
    "### Plotting Regression Line"
   ]
  },
  {
   "cell_type": "code",
   "execution_count": 386,
   "metadata": {
    "ExecuteTime": {
     "end_time": "2021-12-04T11:30:00.173254Z",
     "start_time": "2021-12-04T11:30:00.077445Z"
    }
   },
   "outputs": [],
   "source": [
    "cost, theta = grad_descent_loop(ad_data,['TV'],'Sales',np.zeros(2),0.05,50)"
   ]
  },
  {
   "cell_type": "code",
   "execution_count": 387,
   "metadata": {
    "ExecuteTime": {
     "end_time": "2021-12-04T11:30:00.979996Z",
     "start_time": "2021-12-04T11:30:00.965035Z"
    }
   },
   "outputs": [
    {
     "data": {
      "text/plain": [
       "array([13.95023119,  4.05002507])"
      ]
     },
     "execution_count": 387,
     "metadata": {},
     "output_type": "execute_result"
    }
   ],
   "source": [
    "theta"
   ]
  },
  {
   "cell_type": "code",
   "execution_count": 388,
   "metadata": {
    "ExecuteTime": {
     "end_time": "2021-12-04T11:30:02.754005Z",
     "start_time": "2021-12-04T11:30:02.445241Z"
    }
   },
   "outputs": [
    {
     "data": {
      "image/png": "[encoded data removed]",
      "text/plain": [
       "<Figure size 432x288 with 1 Axes>"
      ]
     },
     "metadata": {
      "needs_background": "light"
     },
     "output_type": "display_data"
    }
   ],
   "source": [
    "plot_cost(cost,0.05)"
   ]
  },
  {
   "cell_type": "code",
   "execution_count": 389,
   "metadata": {
    "ExecuteTime": {
     "end_time": "2021-12-04T11:30:05.561145Z",
     "start_time": "2021-12-04T11:30:05.550212Z"
    }
   },
   "outputs": [],
   "source": [
    "y_pred = predict_output(x,theta)"
   ]
  },
  {
   "cell_type": "code",
   "execution_count": 498,
   "metadata": {
    "ExecuteTime": {
     "end_time": "2021-12-05T10:56:11.363755Z",
     "start_time": "2021-12-05T10:56:10.568748Z"
    }
   },
   "outputs": [
    {
     "data": {
      "image/png": "[encoded data removed]",
      "text/plain": [
       "<Figure size 432x288 with 1 Axes>"
      ]
     },
     "metadata": {
      "needs_background": "light"
     },
     "output_type": "display_data"
    }
   ],
   "source": [
    "plt.scatter(ad_data['TV'],ad_data['Sales'],s=15,alpha=0.3,label='Data Points')\n",
    "plt.plot(ad_data['TV'],y_pred,color='r',linestyle=':',label='Regression Line')\n",
    "plt.xlabel('Spent on TV ads')\n",
    "plt.ylabel('Revenue')\n",
    "plt.legend()\n",
    "plt.show()"
   ]
  },
  {
   "cell_type": "markdown",
   "metadata": {},
   "source": [
    "### Linear Regression (Vectorization)"
   ]
  },
  {
   "cell_type": "code",
   "execution_count": 432,
   "metadata": {
    "ExecuteTime": {
     "end_time": "2021-12-04T11:53:10.313904Z",
     "start_time": "2021-12-04T11:53:10.300940Z"
    }
   },
   "outputs": [
    {
     "data": {
      "text/plain": [
       "array([  14.0225, 2410.5417])"
      ]
     },
     "execution_count": 432,
     "metadata": {},
     "output_type": "execute_result"
    }
   ],
   "source": [
    "#Vectorization\n",
    "ad_data.head()\n",
    "x = ad_data[['TV']]\n",
    "y = ad_data['Sales']\n",
    "m = x.shape[0]\n",
    "alpha = 0.05\n",
    "x.insert(0,'constant',np.ones((x.shape[0],1)))\n",
    "x\n",
    "theta = np.zeros(2)\n",
    "theta\n",
    "y_pred = np.dot(x,theta)\n",
    "y_pred\n",
    "error = y_pred - y\n",
    "error\n",
    "cost = 1/(2*m) * sum(error**2)\n",
    "cost\n",
    "theta = theta - 1/m *0.05* np.dot(error,x)\n",
    "theta"
   ]
  },
  {
   "cell_type": "code",
   "execution_count": 448,
   "metadata": {
    "ExecuteTime": {
     "end_time": "2021-12-04T12:28:56.452656Z",
     "start_time": "2021-12-04T12:28:56.165428Z"
    },
    "scrolled": true
   },
   "outputs": [
    {
     "data": {
      "image/png": "[encoded data removed]",
      "text/plain": [
       "<Figure size 432x288 with 1 Axes>"
      ]
     },
     "metadata": {
      "needs_background": "light"
     },
     "output_type": "display_data"
    }
   ],
   "source": [
    "theta = np.zeros(2)\n",
    "x = ad_data[['TV']]\n",
    "x = get_standard_data(x)\n",
    "x.insert(0,'constant',np.ones((x.shape[0],1)))\n",
    "y = ad_data['Sales']\n",
    "m = x.shape[0]\n",
    "alpha = 0.05\n",
    "cost_list = []\n",
    "for i in range(50):\n",
    "    y_pred = np.dot(x,theta)\n",
    "    error = y_pred - y\n",
    "    cost = 1/(2*m) * sum(error**2)\n",
    "\n",
    "    theta = theta - 1/m *alpha* np.dot(error,x)\n",
    "    cost_list.append(cost)\n",
    "#     print(cost)\n",
    "plt.plot(range(1,len(cost_list)+1),cost_list)\n",
    "plt.show()"
   ]
  },
  {
   "cell_type": "code",
   "execution_count": 487,
   "metadata": {
    "ExecuteTime": {
     "end_time": "2021-12-04T15:04:33.558524Z",
     "start_time": "2021-12-04T15:04:33.537563Z"
    }
   },
   "outputs": [],
   "source": [
    "def grad_descent_vector(x,y,learning_rate,theta,iteration):\n",
    "    \n",
    "    m = x.shape[0]\n",
    "    x_copy = x.copy()\n",
    "    x_copy = get_standard_data(x_copy)\n",
    "    x_copy.insert(0,'constant',np.ones((m,1)))\n",
    "    cost_list = []\n",
    "    for i in range(iteration):\n",
    "        y_pred = np.dot(x_copy,theta)\n",
    "#         print(f'predicted:{y_pred[0]},actual:{y[0]}')\n",
    "        error = y_pred - y\n",
    "        cost = 1/(2*m) * sum(error**2)\n",
    "        theta = theta - 1/m * learning_rate * np.dot(error,x_copy)\n",
    "        cost_list.append(cost)\n",
    "    return cost_list,theta"
   ]
  },
  {
   "cell_type": "code",
   "execution_count": 562,
   "metadata": {
    "ExecuteTime": {
     "end_time": "2021-12-05T11:59:00.076959Z",
     "start_time": "2021-12-05T11:59:00.064871Z"
    }
   },
   "outputs": [],
   "source": [
    "def predict_output(x,theta):\n",
    "    \n",
    "    if isinstance(x,pd.DataFrame):\n",
    "        x = x.values\n",
    "    m = x.shape[0]\n",
    "    x_copy = x.copy()\n",
    "    x_copy = get_standard_data(x_copy)\n",
    "#     x_copy.insert(0,'constant',np.ones((m,1)))\n",
    "    x_copy = np.insert(x_copy,0,1,axis=1) \n",
    "    y_pred = np.dot(x_copy,theta)\n",
    "    return y_pred"
   ]
  },
  {
   "cell_type": "code",
   "execution_count": 514,
   "metadata": {
    "ExecuteTime": {
     "end_time": "2021-12-05T11:28:37.123470Z",
     "start_time": "2021-12-05T11:28:36.849575Z"
    }
   },
   "outputs": [
    {
     "data": {
      "image/png": "[encoded data removed]",
      "text/plain": [
       "<Figure size 432x288 with 1 Axes>"
      ]
     },
     "metadata": {
      "needs_background": "light"
     },
     "output_type": "display_data"
    }
   ],
   "source": [
    "#only ['TV']\n",
    "x_tv = ad_data[['TV']]\n",
    "y_tv= ad_data['Sales']\n",
    "n = x.shape[1]\n",
    "alpha = 0.05\n",
    "initial_theta = np.zeros(n+1)\n",
    "cost_tv,theta_tv = grad_descent_vector(x_tv,y_tv,alpha,initial_theta,50)\n",
    "# print(theta)\n",
    "plot_cost(cost_tv,alpha)\n",
    "plt.title('TV')\n",
    "plt.show()"
   ]
  },
  {
   "cell_type": "code",
   "execution_count": 569,
   "metadata": {
    "ExecuteTime": {
     "end_time": "2021-12-05T13:54:07.108229Z",
     "start_time": "2021-12-05T13:54:07.078273Z"
    }
   },
   "outputs": [
    {
     "data": {
      "text/plain": [
       "array([16.58801371,  8.44408341,  7.24618849, 13.13912944, 14.42478223,\n",
       "        6.87321755,  9.01450956, 11.76571878,  6.86882965, 15.25848199,\n",
       "        9.3918684 , 15.91227812,  7.53578946, 10.76966696, 15.44716141,\n",
       "       15.06541467,  9.46646259, 18.83900307,  9.5278931 , 12.95483791,\n",
       "       16.07463017, 16.90832994,  7.07067275, 16.50903163,  9.22512845,\n",
       "       18.02724277, 12.7617706 , 17.02680306, 17.40854979,  9.58932361,\n",
       "       19.34361082, 11.44540255, 10.75650328, 18.1457159 , 10.69068487,\n",
       "       19.24707716, 18.20275851,  9.76922724,  8.3826529 , 16.49586795,\n",
       "       15.37695511, 14.25804227, 19.37432607, 15.57002242,  7.59283208,\n",
       "       14.1746723 , 10.42741126, 17.01802727, 16.4607648 ,  9.42697155,\n",
       "       15.25848199, 10.89691587, 15.98687231, 14.50376431, 18.01846699,\n",
       "       15.21899095,  6.81178704, 12.46778173, 15.74115027, 15.73676238,\n",
       "        8.83899382, 17.95703648, 16.99169991, 10.99783742, 12.24399917,\n",
       "        9.51911731,  7.87365726, 12.60380643, 16.90832994, 16.00442388,\n",
       "       15.22776673, 11.30937785,  7.66742627, 12.16940498, 15.8552355 ,\n",
       "        7.23302481,  7.69814152, 11.77888246,  6.72841706, 11.58142725,\n",
       "        9.84382143, 17.01363938,  9.7955546 ,  9.49278995, 15.85962339,\n",
       "       14.96888102,  9.83943354, 11.3488689 , 10.36598076, 11.30937785,\n",
       "       12.38441176,  7.74640835, 16.04391492, 17.50069556, 11.20406841,\n",
       "       13.65690087, 15.16194833, 14.60468586, 19.20319823, 12.4239028 ,\n",
       "       16.25014591, 19.49718709, 18.78634835, 14.73632266, 16.94343308,\n",
       "       12.54237592,  7.58844418, 10.45812652,  7.06628486, 17.69815076,\n",
       "       16.39933429, 17.09700936, 14.20099966, 15.68849555,  9.92280351,\n",
       "        9.78677882, 12.59941854,  9.84382143, 12.00705292,  7.34272215,\n",
       "       12.6915643 ,  7.31639479, 16.32035221, 11.89296769, 16.56168635,\n",
       "       10.31771393,  6.8337265 , 10.01056138, 16.15800015,  9.10665533,\n",
       "        6.52218607, 18.12816432,  6.86005386, 16.13606068,  8.11060351,\n",
       "        8.61082336,  7.61477154, 18.50113527,  8.37826501, 14.60468586,\n",
       "        9.71218463, 14.99082049, 16.16677594, 11.08120739, 10.71262434,\n",
       "       12.64768537, 17.02680306, 17.16282776,  8.15887034,  8.4528592 ,\n",
       "       18.80828781, 11.80082192, 15.16194833, 14.00793235, 14.73193477,\n",
       "        6.67137445, 10.61170279, 13.06453525,  7.00485435, 12.27032653,\n",
       "       14.06058707, 10.25189553, 14.75826213, 13.66567665, 11.63408197,\n",
       "       16.78108103,  7.27690375, 15.56563453, 15.94299337, 18.96625198,\n",
       "        8.68541755, 13.70955559,  7.35149793, 13.88068343, 16.25014591,\n",
       "       18.64154786, 17.39099822, 13.95966552, 18.63277207, 13.75782242,\n",
       "       13.362912  , 16.07901807,  8.95746695, 19.11105246, 17.62794447,\n",
       "       15.48665245, 12.61258222, 14.87673525, 19.04084617,  7.31200689,\n",
       "        8.22468874,  9.80433039,  7.24618849, 13.81047714, 13.06014735,\n",
       "        8.16764612, 10.62486647, 14.25804227, 18.93553672, 16.67577158])"
      ]
     },
     "execution_count": 569,
     "metadata": {},
     "output_type": "execute_result"
    }
   ],
   "source": [
    "y_pred_tv = predict_output(x_tv,theta_tv)\n",
    "y_pred_tv"
   ]
  },
  {
   "cell_type": "code",
   "execution_count": 563,
   "metadata": {
    "ExecuteTime": {
     "end_time": "2021-12-05T11:59:05.355104Z",
     "start_time": "2021-12-05T11:59:05.336539Z"
    }
   },
   "outputs": [
    {
     "data": {
      "text/plain": [
       "array([[11],\n",
       "       [34]])"
      ]
     },
     "execution_count": 563,
     "metadata": {},
     "output_type": "execute_result"
    }
   ],
   "source": [
    "a = np.array([[11],[34]])\n",
    "a"
   ]
  },
  {
   "cell_type": "code",
   "execution_count": 564,
   "metadata": {
    "ExecuteTime": {
     "end_time": "2021-12-05T11:59:06.589644Z",
     "start_time": "2021-12-05T11:59:06.568949Z"
    }
   },
   "outputs": [
    {
     "data": {
      "text/plain": [
       "array([ 9.18577643, 16.70130174])"
      ]
     },
     "execution_count": 564,
     "metadata": {},
     "output_type": "execute_result"
    }
   ],
   "source": [
    "predict_output(a,theta_tv)"
   ]
  },
  {
   "cell_type": "code",
   "execution_count": 496,
   "metadata": {
    "ExecuteTime": {
     "end_time": "2021-12-05T10:53:15.148888Z",
     "start_time": "2021-12-05T10:53:14.789900Z"
    },
    "scrolled": true
   },
   "outputs": [
    {
     "data": {
      "image/png": "[encoded data removed]",
      "text/plain": [
       "<Figure size 432x288 with 1 Axes>"
      ]
     },
     "metadata": {
      "needs_background": "light"
     },
     "output_type": "display_data"
    }
   ],
   "source": [
    "sns.kdeplot(y_pred-y)\n",
    "plt.xlabel('Error')\n",
    "plt.show()"
   ]
  },
  {
   "cell_type": "code",
   "execution_count": null,
   "metadata": {},
   "outputs": [],
   "source": [
    "plt.plot(ad_data['TV'],ad_data['Sales'])\n",
    "plt.plot(ad_data['TV'],y)"
   ]
  },
  {
   "cell_type": "code",
   "execution_count": 513,
   "metadata": {
    "ExecuteTime": {
     "end_time": "2021-12-05T11:27:46.548005Z",
     "start_time": "2021-12-05T11:27:46.256260Z"
    },
    "scrolled": true
   },
   "outputs": [
    {
     "data": {
      "image/png": "[encoded data removed]",
      "text/plain": [
       "<Figure size 432x288 with 1 Axes>"
      ]
     },
     "metadata": {
      "needs_background": "light"
     },
     "output_type": "display_data"
    }
   ],
   "source": [
    "#['TV','Radio']\n",
    "x_tv_radio = ad_data[['TV','Radio']]\n",
    "y_tv_radio = ad_data['Sales']\n",
    "n = x_tv_radio.shape[1]\n",
    "theta_tv_radio = np.zeros(n+1)\n",
    "cost_tv_radio, theta_tv_radio = grad_descent_vector(x_tv_radio,y_tv_radio,0.05,theta_tv_radio,50)\n",
    "plot_cost(cost_tv_radio,0.05)\n",
    "plt.title('TV & Radio')\n",
    "plt.show()"
   ]
  },
  {
   "cell_type": "code",
   "execution_count": 570,
   "metadata": {
    "ExecuteTime": {
     "end_time": "2021-12-05T13:54:36.501320Z",
     "start_time": "2021-12-05T13:54:36.487363Z"
    }
   },
   "outputs": [],
   "source": [
    "y_pred_tv_radio = predict_output(x_tv_radio,theta_tv_radio)"
   ]
  },
  {
   "cell_type": "code",
   "execution_count": 573,
   "metadata": {
    "ExecuteTime": {
     "end_time": "2021-12-05T14:43:33.873152Z",
     "start_time": "2021-12-05T14:43:33.562681Z"
    }
   },
   "outputs": [
    {
     "data": {
      "image/png": "[encoded data removed]",
      "text/plain": [
       "<Figure size 432x288 with 1 Axes>"
      ]
     },
     "metadata": {
      "needs_background": "light"
     },
     "output_type": "display_data"
    }
   ],
   "source": [
    "sns.kdeplot(y_pred_tv_radio-y_tv_radio)\n",
    "plt.xlabel('Error')\n",
    "plt.show()"
   ]
  },
  {
   "cell_type": "markdown",
   "metadata": {},
   "source": [
    "### Evaluation Metrics"
   ]
  },
  {
   "cell_type": "code",
   "execution_count": 506,
   "metadata": {
    "ExecuteTime": {
     "end_time": "2021-12-05T11:22:28.592614Z",
     "start_time": "2021-12-05T11:22:28.587759Z"
    }
   },
   "outputs": [],
   "source": [
    "#MAE\n",
    "def get_mae(y,y_pred):\n",
    "    m = len(y)\n",
    "    MAE = sum(abs(y_pred-y))/m\n",
    "    return MAE"
   ]
  },
  {
   "cell_type": "code",
   "execution_count": 575,
   "metadata": {
    "ExecuteTime": {
     "end_time": "2021-12-05T14:47:37.676846Z",
     "start_time": "2021-12-05T14:47:37.662884Z"
    }
   },
   "outputs": [],
   "source": [
    "#MSE\n",
    "def get_mse(y,y_pred):\n",
    "    m = len(y)\n",
    "    error = y_pred -y\n",
    "    mse = sum(error**2)/m\n",
    "    return mse"
   ]
  },
  {
   "cell_type": "code",
   "execution_count": 576,
   "metadata": {
    "ExecuteTime": {
     "end_time": "2021-12-05T14:47:46.004452Z",
     "start_time": "2021-12-05T14:47:45.999454Z"
    }
   },
   "outputs": [],
   "source": [
    "#RMSE\n",
    "def get_rmse(y,y_pred):\n",
    "    import numpy as np\n",
    "    m = len(y)\n",
    "    error = y_pred - y\n",
    "    rmse = np.sqrt(sum(error**2)/m)\n",
    "    return rmse"
   ]
  },
  {
   "cell_type": "code",
   "execution_count": 577,
   "metadata": {
    "ExecuteTime": {
     "end_time": "2021-12-05T14:47:53.372312Z",
     "start_time": "2021-12-05T14:47:53.367326Z"
    }
   },
   "outputs": [],
   "source": [
    "def get_r2_score(y,_pred):\n",
    "    import numpy as np\n",
    "    y_mean = np.mean(y)\n",
    "    total_variation = sum((y-y_mean)**2)\n",
    "    unexpl_variation = sum((y_pred-y)**2)\n",
    "    r2_score = 1 - unexpl_variation/total_variation\n",
    "    return r2_score"
   ]
  },
  {
   "cell_type": "code",
   "execution_count": 587,
   "metadata": {
    "ExecuteTime": {
     "end_time": "2021-12-05T14:55:00.829387Z",
     "start_time": "2021-12-05T14:55:00.816461Z"
    }
   },
   "outputs": [],
   "source": [
    "def get_adjusted_r2(x,y,y_pred):\n",
    "    import numpy as np\n",
    "    n = x.shape[0]\n",
    "    p = x.shape[1]\n",
    "#     print(n)\n",
    "#     print(p)\n",
    "    r = get_r2_score(y,y_pred)\n",
    "    adj_r2_score = 1 - (1-r**2)*(n-1)/(n-p-1)\n",
    "    return adj_r2_score"
   ]
  },
  {
   "cell_type": "code",
   "execution_count": 588,
   "metadata": {
    "ExecuteTime": {
     "end_time": "2021-12-05T14:55:02.807316Z",
     "start_time": "2021-12-05T14:55:02.791392Z"
    }
   },
   "outputs": [
    {
     "name": "stdout",
     "output_type": "stream",
     "text": [
      "MAE: 2.690322530543529\n",
      "MSE: 11.774931042074925\n",
      "RMSE: 3.4314619394763692\n",
      "r2_score: 0.5652720061609927\n",
      "Adjusted_r2_score: 0.31609573610558284\n"
     ]
    }
   ],
   "source": [
    "#['TV']\n",
    "print('MAE:',get_mae(y_tv,y_pred_tv))\n",
    "print('MSE:',get_mse(y_tv,y_pred_tv))\n",
    "print('RMSE:',get_rmse(y_tv,y_pred_tv))\n",
    "print('r2_score:',get_r2_score(y_tv,y_pred_tv))\n",
    "print('Adjusted_r2_score:',get_adjusted_r2(x_tv,y_tv,y_pred_tv))"
   ]
  },
  {
   "cell_type": "code",
   "execution_count": 589,
   "metadata": {
    "ExecuteTime": {
     "end_time": "2021-12-05T14:55:05.108673Z",
     "start_time": "2021-12-05T14:55:05.094712Z"
    }
   },
   "outputs": [
    {
     "data": {
      "text/plain": [
       "0.3101333333333335"
      ]
     },
     "execution_count": 589,
     "metadata": {},
     "output_type": "execute_result"
    }
   ],
   "source": [
    "1 - (1-0.56**2)*(200-1)/(200-1-1)"
   ]
  },
  {
   "cell_type": "code",
   "execution_count": 590,
   "metadata": {
    "ExecuteTime": {
     "end_time": "2021-12-05T14:56:14.628590Z",
     "start_time": "2021-12-05T14:56:14.597433Z"
    }
   },
   "outputs": [
    {
     "name": "stdout",
     "output_type": "stream",
     "text": [
      "MAE: 2.2771381348456328\n",
      "MSE: 8.585411605460923\n",
      "RMSE: 2.930087303385502\n",
      "r2_score: 0.5652720061609927\n",
      "Adjusted_r2_score: 0.3126241408573879\n"
     ]
    }
   ],
   "source": [
    "#['TV','Radio']\n",
    "print('MAE:',get_mae(y_tv_radio,y_pred_tv_radio))\n",
    "print('MSE:',get_mse(y_tv_radio,y_pred_tv_radio))\n",
    "print('RMSE:',get_rmse(y_tv_radio,y_pred_tv_radio))\n",
    "print('r2_score:',get_r2_score(y_tv_radio,y_pred_tv_radio))\n",
    "print('Adjusted_r2_score:',get_adjusted_r2(x_tv_radio,y_tv_radio,y_pred_tv_radio))"
   ]
  },
  {
   "cell_type": "code",
   "execution_count": null,
   "metadata": {},
   "outputs": [],
   "source": []
  },
  {
   "cell_type": "code",
   "execution_count": 534,
   "metadata": {
    "ExecuteTime": {
     "end_time": "2021-12-05T11:41:20.189186Z",
     "start_time": "2021-12-05T11:41:20.168971Z"
    }
   },
   "outputs": [
    {
     "name": "stdout",
     "output_type": "stream",
     "text": [
      "[[[50 20]\n",
      "  [10 20]]]\n"
     ]
    },
    {
     "data": {
      "text/plain": [
       "(1, 2, 2)"
      ]
     },
     "execution_count": 534,
     "metadata": {},
     "output_type": "execute_result"
    }
   ],
   "source": [
    "a = [[50,20],[10,20]]\n",
    "a = np.array([a])\n",
    "print(a)\n",
    "a.shape"
   ]
  },
  {
   "cell_type": "code",
   "execution_count": 525,
   "metadata": {
    "ExecuteTime": {
     "end_time": "2021-12-05T11:35:59.840738Z",
     "start_time": "2021-12-05T11:35:59.827356Z"
    }
   },
   "outputs": [
    {
     "data": {
      "text/plain": [
       "array([ 1, 50])"
      ]
     },
     "execution_count": 525,
     "metadata": {},
     "output_type": "execute_result"
    }
   ],
   "source": [
    "np.insert(a,0,1)"
   ]
  },
  {
   "cell_type": "code",
   "execution_count": 537,
   "metadata": {
    "ExecuteTime": {
     "end_time": "2021-12-05T11:47:00.390485Z",
     "start_time": "2021-12-05T11:47:00.385043Z"
    }
   },
   "outputs": [],
   "source": [
    "a = np.array([[1,2,3],[2,3,5]])"
   ]
  },
  {
   "cell_type": "code",
   "execution_count": 538,
   "metadata": {
    "ExecuteTime": {
     "end_time": "2021-12-05T11:47:01.361257Z",
     "start_time": "2021-12-05T11:47:01.346593Z"
    }
   },
   "outputs": [
    {
     "data": {
      "text/plain": [
       "array([[1, 2, 3],\n",
       "       [2, 3, 5]])"
      ]
     },
     "execution_count": 538,
     "metadata": {},
     "output_type": "execute_result"
    }
   ],
   "source": [
    "a"
   ]
  },
  {
   "cell_type": "code",
   "execution_count": 540,
   "metadata": {
    "ExecuteTime": {
     "end_time": "2021-12-05T11:47:28.572593Z",
     "start_time": "2021-12-05T11:47:28.561825Z"
    }
   },
   "outputs": [
    {
     "data": {
      "text/plain": [
       "array([[1, 1, 2, 3],\n",
       "       [1, 2, 3, 5]])"
      ]
     },
     "execution_count": 540,
     "metadata": {},
     "output_type": "execute_result"
    }
   ],
   "source": [
    "np.insert(a,0,1,axis=1)"
   ]
  },
  {
   "cell_type": "code",
   "execution_count": 541,
   "metadata": {
    "ExecuteTime": {
     "end_time": "2021-12-05T11:47:35.144073Z",
     "start_time": "2021-12-05T11:47:35.134796Z"
    }
   },
   "outputs": [
    {
     "data": {
      "text/plain": [
       "array([[1, 2, 3],\n",
       "       [2, 3, 5]])"
      ]
     },
     "execution_count": 541,
     "metadata": {},
     "output_type": "execute_result"
    }
   ],
   "source": [
    "a"
   ]
  },
  {
   "cell_type": "code",
   "execution_count": 554,
   "metadata": {
    "ExecuteTime": {
     "end_time": "2021-12-05T11:53:29.737622Z",
     "start_time": "2021-12-05T11:53:29.723943Z"
    }
   },
   "outputs": [
    {
     "data": {
      "text/plain": [
       "pandas.core.frame.DataFrame"
      ]
     },
     "execution_count": 554,
     "metadata": {},
     "output_type": "execute_result"
    }
   ],
   "source": [
    "type(x_tv)"
   ]
  },
  {
   "cell_type": "code",
   "execution_count": 557,
   "metadata": {
    "ExecuteTime": {
     "end_time": "2021-12-05T11:54:09.324934Z",
     "start_time": "2021-12-05T11:54:09.304621Z"
    }
   },
   "outputs": [
    {
     "data": {
      "text/plain": [
       "False"
      ]
     },
     "execution_count": 557,
     "metadata": {},
     "output_type": "execute_result"
    }
   ],
   "source": [
    "type(x_tv) == 'pandas.core.frame.DataFrame'"
   ]
  },
  {
   "cell_type": "code",
   "execution_count": 561,
   "metadata": {
    "ExecuteTime": {
     "end_time": "2021-12-05T11:57:34.246690Z",
     "start_time": "2021-12-05T11:57:34.223189Z"
    }
   },
   "outputs": [
    {
     "data": {
      "text/plain": [
       "True"
      ]
     },
     "execution_count": 561,
     "metadata": {},
     "output_type": "execute_result"
    }
   ],
   "source": [
    "isinstance(x_tv,pd.DataFrame)"
   ]
  },
  {
   "cell_type": "code",
   "execution_count": null,
   "metadata": {},
   "outputs": [],
   "source": []
  }
 ],
 "metadata": {
  "kernelspec": {
   "display_name": "Python 3",
   "language": "python",
   "name": "python3"
  },
  "language_info": {
   "codemirror_mode": {
    "name": "ipython",
    "version": 3
   },
   "file_extension": ".py",
   "mimetype": "text/x-python",
   "name": "python",
   "nbconvert_exporter": "python",
   "pygments_lexer": "ipython3",
   "version": "3.8.5"
  }
 },
 "nbformat": 4,
 "nbformat_minor": 4
}
